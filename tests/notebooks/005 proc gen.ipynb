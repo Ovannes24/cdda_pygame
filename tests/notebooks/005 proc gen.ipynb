{
 "cells": [
  {
   "cell_type": "code",
   "execution_count": 1,
   "metadata": {},
   "outputs": [],
   "source": [
    "import pandas as pd\n",
    "import numpy as np\n",
    "import matplotlib.pyplot as plt"
   ]
  },
  {
   "cell_type": "code",
   "execution_count": 33,
   "metadata": {},
   "outputs": [
    {
     "data": {
      "text/plain": [
       "array([[6, 3, 7, 4, 6, 9, 2, 6, 7, 4, 3, 7, 7, 2, 5, 4],\n",
       "       [1, 7, 5, 1, 4, 0, 9, 5, 8, 0, 9, 2, 6, 3, 8, 2],\n",
       "       [4, 2, 6, 4, 8, 6, 1, 3, 8, 1, 9, 8, 9, 4, 1, 3],\n",
       "       [6, 7, 2, 0, 3, 1, 7, 3, 1, 5, 5, 9, 3, 5, 1, 9],\n",
       "       [1, 9, 3, 7, 6, 8, 7, 4, 1, 4, 7, 9, 8, 8, 0, 8],\n",
       "       [6, 8, 7, 0, 7, 7, 2, 0, 7, 2, 2, 0, 4, 9, 6, 9],\n",
       "       [8, 6, 8, 7, 1, 0, 6, 6, 7, 4, 2, 7, 5, 2, 0, 2],\n",
       "       [4, 2, 0, 4, 9, 6, 6, 8, 9, 9, 2, 6, 0, 3, 3, 4],\n",
       "       [6, 6, 3, 6, 2, 5, 1, 9, 8, 4, 5, 3, 9, 6, 8, 6],\n",
       "       [0, 0, 8, 8, 3, 8, 2, 6, 5, 7, 8, 4, 0, 2, 9, 7],\n",
       "       [5, 7, 8, 3, 0, 0, 9, 3, 6, 1, 2, 0, 4, 0, 7, 0],\n",
       "       [0, 1, 1, 5, 6, 4, 0, 0, 2, 1, 4, 9, 5, 6, 3, 6],\n",
       "       [7, 0, 5, 7, 4, 3, 1, 5, 5, 0, 8, 5, 2, 3, 3, 2],\n",
       "       [9, 2, 2, 3, 6, 3, 8, 0, 7, 6, 1, 7, 0, 8, 8, 1],\n",
       "       [6, 9, 2, 6, 9, 8, 3, 0, 1, 0, 4, 4, 6, 8, 8, 2],\n",
       "       [2, 2, 3, 7, 5, 7, 0, 7, 3, 0, 7, 3, 5, 7, 3, 2]])"
      ]
     },
     "execution_count": 33,
     "metadata": {},
     "output_type": "execute_result"
    }
   ],
   "source": [
    "np.random.seed(42)\n",
    "np.random.randint(0, 10, (16, 16))"
   ]
  },
  {
   "cell_type": "code",
   "execution_count": null,
   "metadata": {},
   "outputs": [],
   "source": []
  }
 ],
 "metadata": {
  "kernelspec": {
   "display_name": "Python 3",
   "language": "python",
   "name": "python3"
  },
  "language_info": {
   "codemirror_mode": {
    "name": "ipython",
    "version": 3
   },
   "file_extension": ".py",
   "mimetype": "text/x-python",
   "name": "python",
   "nbconvert_exporter": "python",
   "pygments_lexer": "ipython3",
   "version": "3.10.8"
  }
 },
 "nbformat": 4,
 "nbformat_minor": 2
}
