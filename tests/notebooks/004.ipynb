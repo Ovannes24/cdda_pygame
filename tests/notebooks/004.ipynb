{
 "cells": [
  {
   "cell_type": "code",
   "execution_count": 1,
   "metadata": {},
   "outputs": [],
   "source": [
    "import pandas as pd\n",
    "import numpy as np\n",
    "import matplotlib.pyplot as plt"
   ]
  },
  {
   "cell_type": "code",
   "execution_count": 2,
   "metadata": {},
   "outputs": [],
   "source": [
    "class Block:\n",
    "    def __init__(self) -> None:\n",
    "        self.block = np.random.choice([0, 1])"
   ]
  },
  {
   "cell_type": "code",
   "execution_count": 3,
   "metadata": {},
   "outputs": [],
   "source": [
    "l = lambda x: x.block\n",
    "vec_l = np.vectorize(l)"
   ]
  },
  {
   "cell_type": "code",
   "execution_count": 4,
   "metadata": {},
   "outputs": [],
   "source": [
    "N = 1_000\n",
    "\n",
    "a = np.array(\n",
    "    [Block() for i in range(N)]\n",
    ")"
   ]
  },
  {
   "cell_type": "code",
   "execution_count": 5,
   "metadata": {},
   "outputs": [
    {
     "name": "stdout",
     "output_type": "stream",
     "text": [
      "484\n"
     ]
    }
   ],
   "source": [
    "c = 0\n",
    "for i in range(N):\n",
    "    if a[i].block == 1:\n",
    "        c+=1\n",
    "print(c)"
   ]
  },
  {
   "cell_type": "code",
   "execution_count": 6,
   "metadata": {},
   "outputs": [
    {
     "data": {
      "text/plain": [
       "484"
      ]
     },
     "execution_count": 6,
     "metadata": {},
     "output_type": "execute_result"
    }
   ],
   "source": [
    "np.sum(vec_l(a))"
   ]
  },
  {
   "cell_type": "code",
   "execution_count": 7,
   "metadata": {},
   "outputs": [],
   "source": [
    "l1 = lambda i, j: i*j\n",
    "vec_l1 = np.vectorize(l1)"
   ]
  },
  {
   "cell_type": "code",
   "execution_count": 8,
   "metadata": {},
   "outputs": [],
   "source": [
    "xy = np.array([\n",
    "    [0, 0],\n",
    "    [1, 0],\n",
    "    [2, 1],\n",
    "])"
   ]
  },
  {
   "cell_type": "code",
   "execution_count": 9,
   "metadata": {},
   "outputs": [
    {
     "data": {
      "text/plain": [
       "array([0, 1, 2])"
      ]
     },
     "execution_count": 9,
     "metadata": {},
     "output_type": "execute_result"
    }
   ],
   "source": [
    "xy[:, 0]"
   ]
  },
  {
   "cell_type": "code",
   "execution_count": 10,
   "metadata": {},
   "outputs": [
    {
     "data": {
      "text/plain": [
       "array([0, 0, 2])"
      ]
     },
     "execution_count": 10,
     "metadata": {},
     "output_type": "execute_result"
    }
   ],
   "source": [
    "vec_l1(xy[:, 0], xy[:, 1])"
   ]
  },
  {
   "cell_type": "code",
   "execution_count": 11,
   "metadata": {},
   "outputs": [],
   "source": [
    "d = {\n",
    "    'a': 4,\n",
    "    'b': 4,\n",
    "    'c': 4,\n",
    "}"
   ]
  },
  {
   "cell_type": "code",
   "execution_count": 12,
   "metadata": {},
   "outputs": [
    {
     "name": "stdout",
     "output_type": "stream",
     "text": [
      "0 a\n",
      "1 b\n",
      "2 c\n"
     ]
    }
   ],
   "source": [
    "for i, c in enumerate(d):\n",
    "    print(i, c)"
   ]
  },
  {
   "cell_type": "code",
   "execution_count": 13,
   "metadata": {},
   "outputs": [
    {
     "data": {
      "text/plain": [
       "<zip at 0x270a372d4c0>"
      ]
     },
     "execution_count": 13,
     "metadata": {},
     "output_type": "execute_result"
    }
   ],
   "source": [
    "zip(d)"
   ]
  },
  {
   "cell_type": "code",
   "execution_count": 63,
   "metadata": {},
   "outputs": [],
   "source": [
    "a = np.array([\n",
    "    [1,1],\n",
    "    [1,2],\n",
    "    [1,3],\n",
    "    [1,4],\n",
    "    [1,5],\n",
    "    [1,6],  \n",
    "])\n",
    "\n",
    "b = np.array([\n",
    "    [1,2],\n",
    "    [1,3],\n",
    "    [1,4],\n",
    "    [1,5],\n",
    "    [1,6],  \n",
    "    [1,7]\n",
    "    \n",
    "])\n",
    "\n"
   ]
  },
  {
   "cell_type": "code",
   "execution_count": 65,
   "metadata": {},
   "outputs": [
    {
     "data": {
      "text/plain": [
       "(array([[1, 1],\n",
       "        [1, 2],\n",
       "        [1, 3],\n",
       "        [1, 4],\n",
       "        [1, 5],\n",
       "        [1, 6],\n",
       "        [1, 7]]),\n",
       " array([ 0,  1,  2,  3,  4,  5, 11], dtype=int64),\n",
       " array([1, 2, 2, 2, 2, 2, 1], dtype=int64))"
      ]
     },
     "execution_count": 65,
     "metadata": {},
     "output_type": "execute_result"
    }
   ],
   "source": [
    "np.unique(np.r_[a, b], return_counts=True, return_index=True, axis=0)"
   ]
  },
  {
   "cell_type": "code",
   "execution_count": 41,
   "metadata": {},
   "outputs": [
    {
     "ename": "SyntaxError",
     "evalue": "invalid syntax (1145722274.py, line 1)",
     "output_type": "error",
     "traceback": [
      "\u001b[1;36m  Cell \u001b[1;32mIn[41], line 1\u001b[1;36m\u001b[0m\n\u001b[1;33m    a[]\u001b[0m\n\u001b[1;37m      ^\u001b[0m\n\u001b[1;31mSyntaxError\u001b[0m\u001b[1;31m:\u001b[0m invalid syntax\n"
     ]
    }
   ],
   "source": [
    "a[]"
   ]
  },
  {
   "cell_type": "code",
   "execution_count": 42,
   "metadata": {},
   "outputs": [
    {
     "name": "stderr",
     "output_type": "stream",
     "text": [
      "<>:1: SyntaxWarning: list indices must be integers or slices, not tuple; perhaps you missed a comma?\n",
      "<>:1: SyntaxWarning: list indices must be integers or slices, not tuple; perhaps you missed a comma?\n",
      "C:\\Users\\ovann\\AppData\\Local\\Temp\\ipykernel_8032\\357244317.py:1: SyntaxWarning: list indices must be integers or slices, not tuple; perhaps you missed a comma?\n",
      "  [[1,1] [1,2]] == a\n",
      "C:\\Users\\ovann\\AppData\\Local\\Temp\\ipykernel_8032\\357244317.py:1: SyntaxWarning: list indices must be integers or slices, not tuple; perhaps you missed a comma?\n",
      "  [[1,1] [1,2]] == a\n",
      "C:\\Users\\ovann\\AppData\\Local\\Temp\\ipykernel_8032\\357244317.py:1: SyntaxWarning: list indices must be integers or slices, not tuple; perhaps you missed a comma?\n",
      "  [[1,1] [1,2]] == a\n"
     ]
    },
    {
     "ename": "TypeError",
     "evalue": "list indices must be integers or slices, not tuple",
     "output_type": "error",
     "traceback": [
      "\u001b[1;31m---------------------------------------------------------------------------\u001b[0m",
      "\u001b[1;31mTypeError\u001b[0m                                 Traceback (most recent call last)",
      "Cell \u001b[1;32mIn[42], line 1\u001b[0m\n\u001b[1;32m----> 1\u001b[0m [\u001b[43m[\u001b[49m\u001b[38;5;241;43m1\u001b[39;49m\u001b[43m,\u001b[49m\u001b[38;5;241;43m1\u001b[39;49m\u001b[43m]\u001b[49m\u001b[43m \u001b[49m\u001b[43m[\u001b[49m\u001b[38;5;241;43m1\u001b[39;49m\u001b[43m,\u001b[49m\u001b[38;5;241;43m2\u001b[39;49m\u001b[43m]\u001b[49m] \u001b[38;5;241m==\u001b[39m a\n",
      "\u001b[1;31mTypeError\u001b[0m: list indices must be integers or slices, not tuple"
     ]
    }
   ],
   "source": [
    "[[1,1] [1,2]] == a"
   ]
  },
  {
   "cell_type": "code",
   "execution_count": 43,
   "metadata": {},
   "outputs": [
    {
     "name": "stderr",
     "output_type": "stream",
     "text": [
      "<>:1: SyntaxWarning: list indices must be integers or slices, not tuple; perhaps you missed a comma?\n",
      "<>:1: SyntaxWarning: list indices must be integers or slices, not tuple; perhaps you missed a comma?\n",
      "C:\\Users\\ovann\\AppData\\Local\\Temp\\ipykernel_8032\\3493587461.py:1: SyntaxWarning: list indices must be integers or slices, not tuple; perhaps you missed a comma?\n",
      "  np.all([[1,1] [1,2]] == a, axis=1)\n",
      "C:\\Users\\ovann\\AppData\\Local\\Temp\\ipykernel_8032\\3493587461.py:1: SyntaxWarning: list indices must be integers or slices, not tuple; perhaps you missed a comma?\n",
      "  np.all([[1,1] [1,2]] == a, axis=1)\n",
      "C:\\Users\\ovann\\AppData\\Local\\Temp\\ipykernel_8032\\3493587461.py:1: SyntaxWarning: list indices must be integers or slices, not tuple; perhaps you missed a comma?\n",
      "  np.all([[1,1] [1,2]] == a, axis=1)\n"
     ]
    },
    {
     "ename": "TypeError",
     "evalue": "list indices must be integers or slices, not tuple",
     "output_type": "error",
     "traceback": [
      "\u001b[1;31m---------------------------------------------------------------------------\u001b[0m",
      "\u001b[1;31mTypeError\u001b[0m                                 Traceback (most recent call last)",
      "Cell \u001b[1;32mIn[43], line 1\u001b[0m\n\u001b[1;32m----> 1\u001b[0m np\u001b[38;5;241m.\u001b[39mall([\u001b[43m[\u001b[49m\u001b[38;5;241;43m1\u001b[39;49m\u001b[43m,\u001b[49m\u001b[38;5;241;43m1\u001b[39;49m\u001b[43m]\u001b[49m\u001b[43m \u001b[49m\u001b[43m[\u001b[49m\u001b[38;5;241;43m1\u001b[39;49m\u001b[43m,\u001b[49m\u001b[38;5;241;43m2\u001b[39;49m\u001b[43m]\u001b[49m] \u001b[38;5;241m==\u001b[39m a, axis\u001b[38;5;241m=\u001b[39m\u001b[38;5;241m1\u001b[39m)\n",
      "\u001b[1;31mTypeError\u001b[0m: list indices must be integers or slices, not tuple"
     ]
    }
   ],
   "source": [
    "np.all([[1,1] [1,2]] == a, axis=1)"
   ]
  },
  {
   "cell_type": "code",
   "execution_count": 32,
   "metadata": {},
   "outputs": [
    {
     "data": {
      "text/plain": [
       "array([[0]], dtype=int64)"
      ]
     },
     "execution_count": 32,
     "metadata": {},
     "output_type": "execute_result"
    }
   ],
   "source": [
    "np.argwhere(np.all((1,1) == a, axis=1))"
   ]
  },
  {
   "cell_type": "code",
   "execution_count": 33,
   "metadata": {},
   "outputs": [
    {
     "data": {
      "text/plain": [
       "array([[1, 1]])"
      ]
     },
     "execution_count": 33,
     "metadata": {},
     "output_type": "execute_result"
    }
   ],
   "source": [
    "a[np.argwhere(np.all((1,1) == a, axis=1))[0]]"
   ]
  },
  {
   "cell_type": "code",
   "execution_count": 36,
   "metadata": {},
   "outputs": [
    {
     "data": {
      "text/plain": [
       "array([[1, 2],\n",
       "       [1, 3],\n",
       "       [1, 4],\n",
       "       [1, 5],\n",
       "       [1, 6]])"
      ]
     },
     "execution_count": 36,
     "metadata": {},
     "output_type": "execute_result"
    }
   ],
   "source": [
    "np.delete(a, np.argwhere(np.all((1,1) == a, axis=1))[0], axis=0)"
   ]
  },
  {
   "cell_type": "code",
   "execution_count": 67,
   "metadata": {},
   "outputs": [
    {
     "data": {
      "text/plain": [
       "0"
      ]
     },
     "execution_count": 67,
     "metadata": {},
     "output_type": "execute_result"
    }
   ],
   "source": [
    "np.array([]).shape[0]"
   ]
  },
  {
   "cell_type": "code",
   "execution_count": 73,
   "metadata": {},
   "outputs": [
    {
     "data": {
      "text/plain": [
       "1.0"
      ]
     },
     "execution_count": 73,
     "metadata": {},
     "output_type": "execute_result"
    }
   ],
   "source": [
    "\"\"\"\n",
    "1 - (x/60)**60 = 0.95\n",
    "0.05 = (x/60)**60\n",
    "0.05**(1/60) = x/60\n",
    "\"\"\""
   ]
  },
  {
   "cell_type": "code",
   "execution_count": 74,
   "metadata": {},
   "outputs": [
    {
     "data": {
      "text/plain": [
       "0.9512970866899025"
      ]
     },
     "execution_count": 74,
     "metadata": {},
     "output_type": "execute_result"
    }
   ],
   "source": [
    "0.05**(1/60)"
   ]
  },
  {
   "cell_type": "code",
   "execution_count": 75,
   "metadata": {},
   "outputs": [
    {
     "data": {
      "text/plain": [
       "0.050000000000000135"
      ]
     },
     "execution_count": 75,
     "metadata": {},
     "output_type": "execute_result"
    }
   ],
   "source": [
    "0.9512970866899025**60"
   ]
  },
  {
   "cell_type": "code",
   "execution_count": null,
   "metadata": {},
   "outputs": [],
   "source": []
  },
  {
   "cell_type": "code",
   "execution_count": 18,
   "metadata": {},
   "outputs": [
    {
     "data": {
      "text/plain": [
       "array([[1, 1],\n",
       "       [1, 2],\n",
       "       [1, 2],\n",
       "       [1, 2]])"
      ]
     },
     "execution_count": 18,
     "metadata": {},
     "output_type": "execute_result"
    }
   ],
   "source": [
    "np.r_[\n",
    "    np.array(\n",
    "        [[1,1]]\n",
    "    ),\n",
    "    np.array([\n",
    "        [1,2],\n",
    "        [1,2],\n",
    "        [1,2],\n",
    "        \n",
    "    ])\n",
    "]"
   ]
  },
  {
   "cell_type": "code",
   "execution_count": 24,
   "metadata": {},
   "outputs": [
    {
     "data": {
      "text/plain": [
       "array([[1, 1],\n",
       "       [1, 2],\n",
       "       [1, 3]])"
      ]
     },
     "execution_count": 24,
     "metadata": {},
     "output_type": "execute_result"
    }
   ],
   "source": [
    "np.unique(\n",
    "    np.r_[\n",
    "    np.array(\n",
    "        [[1,1],\n",
    "         [1,3]]\n",
    "    ),\n",
    "    np.array([\n",
    "        [1,2],\n",
    "        [1,2],\n",
    "        [1,2],\n",
    "        \n",
    "    ])],\n",
    "    axis=0\n",
    ")"
   ]
  },
  {
   "cell_type": "code",
   "execution_count": 10,
   "metadata": {},
   "outputs": [
    {
     "data": {
      "text/plain": [
       "array([], shape=(0, 2), dtype=int32)"
      ]
     },
     "execution_count": 10,
     "metadata": {},
     "output_type": "execute_result"
    }
   ],
   "source": [
    "np.random.randint(0, 9, (0, 2))"
   ]
  },
  {
   "cell_type": "code",
   "execution_count": 16,
   "metadata": {},
   "outputs": [
    {
     "data": {
      "text/plain": [
       "array([], shape=(1, 0), dtype=float64)"
      ]
     },
     "execution_count": 16,
     "metadata": {},
     "output_type": "execute_result"
    }
   ],
   "source": [
    "np.array([[]])"
   ]
  },
  {
   "cell_type": "code",
   "execution_count": null,
   "metadata": {},
   "outputs": [],
   "source": [
    "\"\"\"\n",
    "  del      del    add_     \n",
    "(-3, 0), \n",
    "(-3, 1), \n",
    "(-3, 2), \n",
    "(-2, 0), \n",
    "(-2, 1), \n",
    "(-2, 2), \n",
    "(-1, 0), \n",
    "(-1, 1), \n",
    "(-1, 2), \n",
    "(0 , 0), \n",
    "(0 , 1), (0 , 1), (0 , 1), \n",
    "(0 , 2), (0 , 2), (0 , 2), \n",
    "(1 , 0), (1 , 0), (1 , 0), \n",
    "(1 , 1), (1 , 1),          \n",
    "(1 , 2), (1 , 2),          \n",
    "(2 , 0), (2 , 0),          \n",
    "(2 , 1), (2 , 1),          \n",
    "(2 , 2), (2 , 2),          \n",
    "(3 , 0), (3 , 0),          \n",
    "(3 , 1), (3 , 1),          \n",
    "(3 , 2), (3 , 2),          \n",
    "\"\"\""
   ]
  },
  {
   "cell_type": "code",
   "execution_count": null,
   "metadata": {},
   "outputs": [],
   "source": [
    "\"\"\"       add      del      add_new     del_new     add_        del_\n",
    "(-3, 0), (-3, 0),                                   (-3, 0),    \n",
    "(-3, 1), (-3, 1),                                   (-3, 1),    \n",
    "(-3, 2), (-3, 2),                                   (-3, 2),    \n",
    "(-2, 0), (-2, 0),                                   (-2, 0),    \n",
    "(-2, 1), (-2, 1),           (-2, 1),                (-2, 1),    \n",
    "(-2, 2), (-2, 2),           (-2, 2),                (-2, 2),    \n",
    "(-1, 0), (-1, 0),           (-1, 0),                (-1, 0),    \n",
    "(-1, 1), (-1, 1),           (-1, 1),    (-1, 1),    (-1, 1),    \n",
    "(-1, 2), (-1, 2),           (-1, 2),    (-1, 2),    (-1, 2),    \n",
    "(0 , 0), (0 , 0),           (0 , 0),    (0 , 0),    (0 , 0),    \n",
    "(0 , 1),         (0 , 1),   (0 , 1),    (0 , 1),    (0 , 1),    \n",
    "(0 , 2),         (0 , 2),   (0 , 2),    (0 , 2),    (0 , 2),    \n",
    "(1 , 0),         (1 , 0),   (1 , 0),    (1 , 0),    (1 , 0),    \n",
    "(1 , 1),         (1 , 1),               (1 , 1),              (1 , 1),   \n",
    "(1 , 2),         (1 , 2),               (1 , 2),              (1 , 2),   \n",
    "(2 , 0),         (2 , 0),               (2 , 0),              (2 , 0),   \n",
    "(2 , 1),         (2 , 1),               (2 , 1),              (2 , 1),   \n",
    "(2 , 2),         (2 , 2),               (2 , 2),              (2 , 2),   \n",
    "(3 , 0),         (3 , 0),                                     (3 , 0),   \n",
    "(3 , 1),         (3 , 1),                                     (3 , 1),   \n",
    "(3 , 2),         (3 , 2),                                     (3 , 2),   \n",
    "\"\"\""
   ]
  },
  {
   "cell_type": "code",
   "execution_count": 314,
   "metadata": {},
   "outputs": [
    {
     "data": {
      "text/plain": [
       "array([2, 4, 6])"
      ]
     },
     "execution_count": 314,
     "metadata": {},
     "output_type": "execute_result"
    }
   ],
   "source": [
    "np.max(\n",
    "    np.array(\n",
    "        [\n",
    "            [1,2],\n",
    "            [3,4],\n",
    "            [5,6]\n",
    "        ]\n",
    "    ), \n",
    "    axis=1\n",
    ")"
   ]
  },
  {
   "cell_type": "code",
   "execution_count": 315,
   "metadata": {},
   "outputs": [
    {
     "data": {
      "text/plain": [
       "array([[1, 2],\n",
       "       [3, 4],\n",
       "       [5, 6]])"
      ]
     },
     "execution_count": 315,
     "metadata": {},
     "output_type": "execute_result"
    }
   ],
   "source": [
    "a = np.array(\n",
    "    [\n",
    "        [1,2],\n",
    "        [3,4],\n",
    "        [5,6]\n",
    "    ]\n",
    ")\n",
    "a"
   ]
  },
  {
   "cell_type": "code",
   "execution_count": 318,
   "metadata": {},
   "outputs": [
    {
     "data": {
      "text/plain": [
       "array([[1, 2],\n",
       "       [3, 4],\n",
       "       [5, 6],\n",
       "       [0, 0]])"
      ]
     },
     "execution_count": 318,
     "metadata": {},
     "output_type": "execute_result"
    }
   ],
   "source": [
    "np.concatenate(\n",
    "    [\n",
    "        a,\n",
    "        [[0,0]]\n",
    "    ]\n",
    ")"
   ]
  },
  {
   "cell_type": "code",
   "execution_count": 51,
   "metadata": {},
   "outputs": [
    {
     "data": {
      "text/plain": [
       "array([  9,  49, 121])"
      ]
     },
     "execution_count": 51,
     "metadata": {},
     "output_type": "execute_result"
    }
   ],
   "source": [
    "np.sum(a, axis=1)**2"
   ]
  },
  {
   "cell_type": "code",
   "execution_count": 52,
   "metadata": {},
   "outputs": [
    {
     "data": {
      "text/plain": [
       "array([False,  True,  True])"
      ]
     },
     "execution_count": 52,
     "metadata": {},
     "output_type": "execute_result"
    }
   ],
   "source": [
    "np.sum(a, axis=1)**2 > 10"
   ]
  },
  {
   "cell_type": "code",
   "execution_count": 53,
   "metadata": {},
   "outputs": [
    {
     "data": {
      "text/plain": [
       "array([[3, 4],\n",
       "       [5, 6]])"
      ]
     },
     "execution_count": 53,
     "metadata": {},
     "output_type": "execute_result"
    }
   ],
   "source": [
    "a[np.sum(a, axis=1)**2 > 10]"
   ]
  },
  {
   "cell_type": "code",
   "execution_count": 56,
   "metadata": {},
   "outputs": [
    {
     "data": {
      "text/plain": [
       "array([[1, 2],\n",
       "       [3, 4],\n",
       "       [5, 6]])"
      ]
     },
     "execution_count": 56,
     "metadata": {},
     "output_type": "execute_result"
    }
   ],
   "source": [
    "a[np.argsort(np.sum(a, axis=1)**2)]"
   ]
  },
  {
   "cell_type": "code",
   "execution_count": 55,
   "metadata": {},
   "outputs": [
    {
     "data": {
      "text/plain": [
       "array([[3, 4],\n",
       "       [5, 6]])"
      ]
     },
     "execution_count": 55,
     "metadata": {},
     "output_type": "execute_result"
    }
   ],
   "source": [
    "a[[False, True, True]]"
   ]
  },
  {
   "cell_type": "code",
   "execution_count": 58,
   "metadata": {},
   "outputs": [
    {
     "data": {
      "text/plain": [
       "array([0.46364761, 0.64350111, 0.69473828])"
      ]
     },
     "execution_count": 58,
     "metadata": {},
     "output_type": "execute_result"
    }
   ],
   "source": [
    "np.arctan2(a[:, 0], a[:, 1])"
   ]
  },
  {
   "cell_type": "code",
   "execution_count": 59,
   "metadata": {},
   "outputs": [
    {
     "data": {
      "text/plain": [
       "0.4636476090008061"
      ]
     },
     "execution_count": 59,
     "metadata": {},
     "output_type": "execute_result"
    }
   ],
   "source": [
    "np.arctan2(1,2)"
   ]
  },
  {
   "cell_type": "code",
   "execution_count": 64,
   "metadata": {},
   "outputs": [
    {
     "data": {
      "text/plain": [
       "array([[1, 2],\n",
       "       [5, 6]])"
      ]
     },
     "execution_count": 64,
     "metadata": {},
     "output_type": "execute_result"
    }
   ],
   "source": [
    "a[np.random.choice(np.arange(len(a)), 2)]"
   ]
  },
  {
   "cell_type": "code",
   "execution_count": 71,
   "metadata": {},
   "outputs": [
    {
     "data": {
      "text/plain": [
       "'00000001.png'"
      ]
     },
     "execution_count": 71,
     "metadata": {},
     "output_type": "execute_result"
    }
   ],
   "source": [
    "f\"{1:08d}.png\""
   ]
  },
  {
   "cell_type": "code",
   "execution_count": 4,
   "metadata": {},
   "outputs": [],
   "source": [
    "a = np.array([\n",
    "    [1, 1, 1, 1, 1, 1, 1, 1, 1, 1, 1, 1, 1, 1, 1, 1, ],\n",
    "    [1, 1, 1, 1, 1, 1, 1, 1, 1, 1, 1, 1, 1, 1, 1, 1, ],\n",
    "    [1, 1, 1, 1, 1, 1, 1, 1, 1, 1, 1, 1, 1, 1, 1, 1, ],\n",
    "    [1, 1, 1, 1, 1, 1, 1, 1, 1, 1, 1, 1, 1, 1, 1, 1, ],\n",
    "    [1, 1, 1, 1, 1, 1, 1, 1, 1, 1, 1, 1, 1, 1, 1, 1, ],\n",
    "    [1, 1, 1, 1, 1, 1, 1, 1, 1, 1, 1, 1, 1, 1, 1, 1, ],\n",
    "    [1, 1, 1, 1, 1, 1, 1, 1, 1, 1, 1, 1, 1, 1, 1, 1, ],\n",
    "    [1, 1, 1, 1, 1, 1, 1, 1, 1, 1, 1, 1, 1, 1, 1, 1, ],\n",
    "    [1, 1, 1, 1, 1, 1, 1, 1, 1, 1, 1, 1, 1, 1, 1, 1, ],\n",
    "    [1, 1, 1, 1, 1, 1, 1, 1, 1, 1, 1, 1, 1, 1, 1, 1, ],\n",
    "    [1, 1, 1, 1, 1, 1, 1, 1, 1, 1, 1, 1, 1, 1, 1, 1, ],\n",
    "    [1, 1, 1, 1, 1, 1, 1, 1, 1, 1, 1, 1, 1, 1, 1, 1, ],\n",
    "    [1, 1, 1, 1, 1, 1, 1, 1, 1, 1, 1, 1, 1, 1, 1, 1, ],\n",
    "    [1, 1, 1, 1, 1, 1, 1, 1, 1, 1, 1, 1, 1, 1, 1, 1, ],\n",
    "    [1, 1, 1, 1, 1, 1, 1, 1, 1, 1, 1, 1, 1, 1, 1, 1, ],\n",
    "    [1, 1, 1, 1, 1, 1, 1, 1, 1, 1, 1, 1, 1, 1, 1, 1, ],\n",
    "])\n",
    "\n",
    "b = np.array([\n",
    "    [0, 0, 0, 2, 3, 0, 0, 0, 0, 0, 0, 0, 1, 0, 0, 0, ],\n",
    "    [0, 0, 0, 0, 0, 0, 0, 0, 0, 0, 0, 0, 0, 0, 0, 0, ],\n",
    "    [0, 0, 0, 0, 0, 0, 0, 0, 0, 0, 0, 0, 0, 0, 0, 0, ],\n",
    "    [1, 0, 0, 0, 0, 0, 0, 0, 0, 0, 0, 0, 0, 0, 0, 1, ],\n",
    "    [1, 0, 0, 0, 0, 0, 0, 0, 0, 0, 0, 0, 0, 0, 0, 1, ],\n",
    "    [1, 0, 0, 0, 0, 0, 1, 0, 0, 0, 0, 0, 0, 0, 0, 1, ],\n",
    "    [1, 0, 0, 0, 0, 0, 0, 0, 0, 0, 0, 0, 0, 0, 0, 1, ],\n",
    "    [0, 0, 0, 0, 0, 0, 0, 0, 0, 0, 0, 0, 0, 0, 0, 0, ],\n",
    "    [0, 0, 0, 0, 0, 0, 0, 0, 0, 0, 0, 0, 0, 0, 0, 0, ],\n",
    "    [1, 0, 0, 0, 0, 0, 0, 0, 0, 0, 0, 0, 0, 0, 0, 1, ],\n",
    "    [1, 0, 0, 0, 0, 0, 0, 0, 0, 0, 0, 0, 0, 0, 0, 1, ],\n",
    "    [1, 0, 0, 0, 0, 0, 0, 0, 0, 0, 0, 0, 1, 1, 1, 1, ],\n",
    "    [0, 0, 0, 0, 0, 0, 0, 0, 0, 0, 0, 0, 0, 0, 0, 0, ],\n",
    "    [0, 0, 0, 0, 0, 0, 0, 0, 0, 0, 0, 0, 0, 0, 0, 0, ],\n",
    "    [0, 0, 0, 0, 0, 0, 0, 0, 0, 0, 0, 0, 0, 0, 0, 0, ],\n",
    "    [0, 0, 0, 1, 0, 0, 0, 0, 0, 0, 0, 0, 1, 0, 0, 0, ],\n",
    "])"
   ]
  },
  {
   "cell_type": "code",
   "execution_count": 16,
   "metadata": {},
   "outputs": [
    {
     "data": {
      "text/plain": [
       "array([[1, 1, 1, 1, 1, 1, 1, 1, 1, 1, 1, 1, 1, 1, 1, 1],\n",
       "       [1, 1, 1, 1, 1, 1, 1, 1, 1, 1, 1, 1, 1, 1, 1, 1],\n",
       "       [1, 1, 1, 1, 1, 1, 1, 1, 1, 1, 1, 1, 1, 1, 1, 1],\n",
       "       [1, 1, 1, 1, 1, 1, 1, 1, 1, 1, 1, 1, 1, 1, 1, 1],\n",
       "       [1, 1, 1, 1, 1, 1, 1, 1, 1, 1, 1, 1, 1, 1, 1, 1],\n",
       "       [1, 1, 1, 1, 1, 1, 1, 1, 1, 1, 1, 1, 1, 1, 1, 1],\n",
       "       [1, 1, 1, 1, 1, 1, 1, 1, 1, 1, 1, 1, 1, 1, 1, 1],\n",
       "       [1, 1, 1, 1, 1, 1, 1, 1, 1, 1, 1, 1, 1, 1, 1, 1],\n",
       "       [1, 1, 1, 1, 1, 1, 1, 1, 1, 1, 1, 1, 1, 1, 1, 1],\n",
       "       [1, 1, 1, 1, 1, 1, 1, 1, 1, 1, 1, 1, 1, 1, 1, 1],\n",
       "       [1, 1, 1, 1, 1, 1, 1, 1, 1, 1, 1, 1, 1, 1, 1, 1],\n",
       "       [1, 1, 1, 1, 1, 1, 1, 1, 1, 1, 1, 1, 1, 1, 1, 1],\n",
       "       [1, 1, 1, 1, 1, 1, 1, 1, 1, 1, 1, 1, 1, 1, 1, 1],\n",
       "       [1, 1, 1, 1, 1, 1, 1, 1, 1, 1, 1, 1, 1, 1, 1, 1],\n",
       "       [1, 1, 1, 1, 1, 1, 1, 1, 1, 1, 1, 1, 1, 1, 1, 1],\n",
       "       [1, 1, 1, 1, 1, 1, 1, 1, 1, 1, 1, 1, 1, 1, 1, 1]])"
      ]
     },
     "execution_count": 16,
     "metadata": {},
     "output_type": "execute_result"
    }
   ],
   "source": [
    "np.concatenate([[a,b]], axis=1)[0]"
   ]
  },
  {
   "cell_type": "code",
   "execution_count": 21,
   "metadata": {},
   "outputs": [
    {
     "data": {
      "text/plain": [
       "array([[[1, 1, 1, 1, 1, 1, 1, 1, 1, 1, 1, 1, 1, 1, 1, 1],\n",
       "        [1, 1, 1, 1, 1, 1, 1, 1, 1, 1, 1, 1, 1, 1, 1, 1],\n",
       "        [1, 1, 1, 1, 1, 1, 1, 1, 1, 1, 1, 1, 1, 1, 1, 1],\n",
       "        [1, 1, 1, 1, 1, 1, 1, 1, 1, 1, 1, 1, 1, 1, 1, 1],\n",
       "        [1, 1, 1, 1, 1, 1, 1, 1, 1, 1, 1, 1, 1, 1, 1, 1],\n",
       "        [1, 1, 1, 1, 1, 1, 1, 1, 1, 1, 1, 1, 1, 1, 1, 1],\n",
       "        [1, 1, 1, 1, 1, 1, 1, 1, 1, 1, 1, 1, 1, 1, 1, 1],\n",
       "        [1, 1, 1, 1, 1, 1, 1, 1, 1, 1, 1, 1, 1, 1, 1, 1],\n",
       "        [1, 1, 1, 1, 1, 1, 1, 1, 1, 1, 1, 1, 1, 1, 1, 1],\n",
       "        [1, 1, 1, 1, 1, 1, 1, 1, 1, 1, 1, 1, 1, 1, 1, 1],\n",
       "        [1, 1, 1, 1, 1, 1, 1, 1, 1, 1, 1, 1, 1, 1, 1, 1],\n",
       "        [1, 1, 1, 1, 1, 1, 1, 1, 1, 1, 1, 1, 1, 1, 1, 1],\n",
       "        [1, 1, 1, 1, 1, 1, 1, 1, 1, 1, 1, 1, 1, 1, 1, 1],\n",
       "        [1, 1, 1, 1, 1, 1, 1, 1, 1, 1, 1, 1, 1, 1, 1, 1],\n",
       "        [1, 1, 1, 1, 1, 1, 1, 1, 1, 1, 1, 1, 1, 1, 1, 1],\n",
       "        [1, 1, 1, 1, 1, 1, 1, 1, 1, 1, 1, 1, 1, 1, 1, 1]],\n",
       "\n",
       "       [[0, 0, 0, 2, 3, 0, 0, 0, 0, 0, 0, 0, 1, 0, 0, 0],\n",
       "        [0, 0, 0, 0, 0, 0, 0, 0, 0, 0, 0, 0, 0, 0, 0, 0],\n",
       "        [0, 0, 0, 0, 0, 0, 0, 0, 0, 0, 0, 0, 0, 0, 0, 0],\n",
       "        [1, 0, 0, 0, 0, 0, 0, 0, 0, 0, 0, 0, 0, 0, 0, 1],\n",
       "        [1, 0, 0, 0, 0, 0, 0, 0, 0, 0, 0, 0, 0, 0, 0, 1],\n",
       "        [1, 0, 0, 0, 0, 0, 1, 0, 0, 0, 0, 0, 0, 0, 0, 1],\n",
       "        [1, 0, 0, 0, 0, 0, 0, 0, 0, 0, 0, 0, 0, 0, 0, 1],\n",
       "        [0, 0, 0, 0, 0, 0, 0, 0, 0, 0, 0, 0, 0, 0, 0, 0],\n",
       "        [0, 0, 0, 0, 0, 0, 0, 0, 0, 0, 0, 0, 0, 0, 0, 0],\n",
       "        [1, 0, 0, 0, 0, 0, 0, 0, 0, 0, 0, 0, 0, 0, 0, 1],\n",
       "        [1, 0, 0, 0, 0, 0, 0, 0, 0, 0, 0, 0, 0, 0, 0, 1],\n",
       "        [1, 0, 0, 0, 0, 0, 0, 0, 0, 0, 0, 0, 1, 1, 1, 1],\n",
       "        [0, 0, 0, 0, 0, 0, 0, 0, 0, 0, 0, 0, 0, 0, 0, 0],\n",
       "        [0, 0, 0, 0, 0, 0, 0, 0, 0, 0, 0, 0, 0, 0, 0, 0],\n",
       "        [0, 0, 0, 0, 0, 0, 0, 0, 0, 0, 0, 0, 0, 0, 0, 0],\n",
       "        [0, 0, 0, 1, 0, 0, 0, 0, 0, 0, 0, 0, 1, 0, 0, 0]]])"
      ]
     },
     "execution_count": 21,
     "metadata": {},
     "output_type": "execute_result"
    }
   ],
   "source": [
    "np.array([a,b])"
   ]
  },
  {
   "cell_type": "code",
   "execution_count": 26,
   "metadata": {},
   "outputs": [
    {
     "data": {
      "text/plain": [
       "array([[1, 1, 1, 2, 3, 1, 1, 1, 1, 1, 1, 1, 1, 1, 1, 1],\n",
       "       [1, 1, 1, 1, 1, 1, 1, 1, 1, 1, 1, 1, 1, 1, 1, 1],\n",
       "       [1, 1, 1, 1, 1, 1, 1, 1, 1, 1, 1, 1, 1, 1, 1, 1],\n",
       "       [1, 1, 1, 1, 1, 1, 1, 1, 1, 1, 1, 1, 1, 1, 1, 1],\n",
       "       [1, 1, 1, 1, 1, 1, 1, 1, 1, 1, 1, 1, 1, 1, 1, 1],\n",
       "       [1, 1, 1, 1, 1, 1, 1, 1, 1, 1, 1, 1, 1, 1, 1, 1],\n",
       "       [1, 1, 1, 1, 1, 1, 1, 1, 1, 1, 1, 1, 1, 1, 1, 1],\n",
       "       [1, 1, 1, 1, 1, 1, 1, 1, 1, 1, 1, 1, 1, 1, 1, 1],\n",
       "       [1, 1, 1, 1, 1, 1, 1, 1, 1, 1, 1, 1, 1, 1, 1, 1],\n",
       "       [1, 1, 1, 1, 1, 1, 1, 1, 1, 1, 1, 1, 1, 1, 1, 1],\n",
       "       [1, 1, 1, 1, 1, 1, 1, 1, 1, 1, 1, 1, 1, 1, 1, 1],\n",
       "       [1, 1, 1, 1, 1, 1, 1, 1, 1, 1, 1, 1, 1, 1, 1, 1],\n",
       "       [1, 1, 1, 1, 1, 1, 1, 1, 1, 1, 1, 1, 1, 1, 1, 1],\n",
       "       [1, 1, 1, 1, 1, 1, 1, 1, 1, 1, 1, 1, 1, 1, 1, 1],\n",
       "       [1, 1, 1, 1, 1, 1, 1, 1, 1, 1, 1, 1, 1, 1, 1, 1],\n",
       "       [1, 1, 1, 1, 1, 1, 1, 1, 1, 1, 1, 1, 1, 1, 1, 1]])"
      ]
     },
     "execution_count": 26,
     "metadata": {},
     "output_type": "execute_result"
    }
   ],
   "source": [
    "np.max(np.array([a,b]), axis=0)"
   ]
  },
  {
   "cell_type": "code",
   "execution_count": null,
   "metadata": {},
   "outputs": [],
   "source": []
  },
  {
   "cell_type": "code",
   "execution_count": 40,
   "metadata": {},
   "outputs": [
    {
     "data": {
      "text/plain": [
       "<matplotlib.collections.PathCollection at 0x21073ce7eb0>"
      ]
     },
     "execution_count": 40,
     "metadata": {},
     "output_type": "execute_result"
    },
    {
     "data": {
      "image/png": "[encoded data removed]",
      "text/plain": [
       "<Figure size 640x480 with 1 Axes>"
      ]
     },
     "metadata": {},
     "output_type": "display_data"
    }
   ],
   "source": [
    "x = [0, 1,  1,  2, 2,                        10,                              10,                      0,                              0] + [0,  0, 10, 10, 0]\n",
    "y = [0, 0, -1, -1, 0,                         0,                              10,                     10,                              0] + [0, 10, 10,  0, 0]\n",
    "\n",
    "plt.fill(x, y)\n",
    "plt.scatter(x, y)"
   ]
  },
  {
   "cell_type": "code",
   "execution_count": 257,
   "metadata": {},
   "outputs": [
    {
     "data": {
      "text/plain": [
       "array([[ 47.,  44.],\n",
       "       [ 47.,  35.],\n",
       "       [ 46.,  32.],\n",
       "       ...,\n",
       "       [-32., -20.],\n",
       "       [-32., -28.],\n",
       "       [-32., -29.]])"
      ]
     },
     "execution_count": 257,
     "metadata": {},
     "output_type": "execute_result"
    }
   ],
   "source": [
    "xy = np.load('../test.npy')[::-1]\n",
    "\n",
    "choice_n = np.arange(len(xy))[np.random.choice([True, False], len(xy), p=[0.02, 0.98])]\n",
    "\n",
    "cxy  =  xy[choice_n]\n",
    "tlxy = (xy + np.array([-0.5, -0.5]))[choice_n]\n",
    "brxy = (xy + np.array([ 0.5,  0.5]))[choice_n]\n",
    "trxy = (xy + np.array([ 0.5, -0.5]))[choice_n]\n",
    "blxy = (xy + np.array([-0.5,  0.5]))[choice_n]\n",
    "\n",
    "xy"
   ]
  },
  {
   "cell_type": "code",
   "execution_count": 258,
   "metadata": {},
   "outputs": [],
   "source": [
    "pxy = np.array([1, 1])"
   ]
  },
  {
   "cell_type": "code",
   "execution_count": 259,
   "metadata": {},
   "outputs": [],
   "source": [
    "px = (cxy - pxy)[:, 0] > 0\n",
    "mx = ~px\n",
    "\n",
    "py = (cxy - pxy)[:, 1] > 0\n",
    "my = ~py"
   ]
  },
  {
   "cell_type": "code",
   "execution_count": 260,
   "metadata": {},
   "outputs": [
    {
     "data": {
      "text/plain": [
       "(27, 27)"
      ]
     },
     "execution_count": 260,
     "metadata": {},
     "output_type": "execute_result"
    }
   ],
   "source": [
    "q1 = px & py\n",
    "q2 = mx & py\n",
    "q3 = mx & my\n",
    "q4 = px & my\n",
    "len(cxy), np.sum([q1, q2,q3,q4])"
   ]
  },
  {
   "cell_type": "code",
   "execution_count": 276,
   "metadata": {},
   "outputs": [],
   "source": [
    "\"\"\"\n",
    "tl tr tl tr\n",
    "bl q3 q4 br\n",
    "tl q2 q1 tr\n",
    "bl br bl br\n",
    "\n",
    "tl tr  3 4\n",
    "bl br  2 1\n",
    "\n",
    "q1 4 1 2\n",
    "q2 1 2 3\n",
    "q3 2 3 4\n",
    "q4 3 4 1\n",
    "\n",
    "\"\"\"\n",
    "\n",
    "q1_cxy  = cxy[q1]\n",
    "q1_trxy = trxy[q1]\n",
    "q1_brxy = brxy[q1]\n",
    "q1_blxy = blxy[q1]\n",
    "q1_xy = np.concatenate([q1_trxy, q1_brxy, q1_blxy])\n",
    "\n",
    "q2_cxy  = cxy[q2]\n",
    "q2_brxy = brxy[q2]\n",
    "q2_blxy = blxy[q2]\n",
    "q2_tlxy = tlxy[q2]\n",
    "q2_xy = np.concatenate([q2_brxy, q2_blxy, q2_tlxy])\n",
    "\n",
    "q3_cxy  = cxy[q3]\n",
    "q3_blxy = blxy[q3]\n",
    "q3_tlxy = tlxy[q3]\n",
    "q3_trxy = trxy[q3]\n",
    "q3_xy = np.concatenate([q3_blxy, q3_tlxy, q3_trxy])\n",
    "\n",
    "\n",
    "\n",
    "q4_cxy  = cxy[q4]\n",
    "q4_tlxy = tlxy[q4]\n",
    "q4_trxy = trxy[q4]\n",
    "q4_brxy = brxy[q4]\n",
    "q4_xy = np.concatenate([q4_tlxy, q4_trxy, q4_brxy])\n",
    "\n",
    "q1_xy = q1_xy[np.argsort(np.arctan2(*q1_xy[:, ::-1].T))]\n",
    "q2_xy = q2_xy[np.argsort(np.arctan2(*q2_xy[:, ::-1].T))]\n",
    "q3_xy = q3_xy[np.argsort(np.arctan2(*q3_xy[:, ::-1].T))]\n",
    "q4_xy = q4_xy[np.argsort(np.arctan2(*q4_xy[:, ::-1].T))]\n",
    "\n",
    "q1_shadow_xy = q1_xy + 1*(q1_xy - pxy)\n",
    "q2_shadow_xy = q2_xy + 1*(q2_xy - pxy)\n",
    "q3_shadow_xy = q3_xy + 1*(q3_xy - pxy)\n",
    "q4_shadow_xy = q4_xy + 1*(q4_xy - pxy)"
   ]
  },
  {
   "cell_type": "code",
   "execution_count": 299,
   "metadata": {},
   "outputs": [
    {
     "data": {
      "text/plain": [
       "array([2740., 3092., 1768., 2164., 2165., 2137., 1845., 2053., 1129.,\n",
       "       1108.,  281., 2180.,  468.,  676.,  145.,  493.,  328.,  949.,\n",
       "        653.,  232.,  292.,  353.,  313., 2741.,  725.,  925.,  962.])"
      ]
     },
     "execution_count": 299,
     "metadata": {},
     "output_type": "execute_result"
    }
   ],
   "source": [
    "lenght = np.sum((cxy - pxy)**2, axis=1)\n",
    "lenght"
   ]
  },
  {
   "cell_type": "code",
   "execution_count": 277,
   "metadata": {},
   "outputs": [
    {
     "data": {
      "text/plain": [
       "array([ 0.75837771,  0.91290772, -0.0475831 , -0.44441921, -0.49248577,\n",
       "        0.89267702,  1.13838855,  1.18619161,  0.93324753,  0.99945885,\n",
       "       -0.30288487,  1.39860551,  0.98279372,  1.17600521,  0.84415399,\n",
       "       -0.94531129, -1.46013911,  1.80002826,  2.10450452,  1.97568811,\n",
       "       -1.929567  , -2.01063891, -2.39617318,  2.06861866,  2.87859792,\n",
       "        2.66324022,  3.10934577])"
      ]
     },
     "execution_count": 277,
     "metadata": {},
     "output_type": "execute_result"
    }
   ],
   "source": [
    "angle = np.arctan2(*(cxy - pxy)[:, ::-1].T)\n",
    "angle"
   ]
  },
  {
   "cell_type": "code",
   "execution_count": 308,
   "metadata": {},
   "outputs": [
    {
     "data": {
      "text/plain": [
       "3.141592653589793"
      ]
     },
     "execution_count": 308,
     "metadata": {},
     "output_type": "execute_result"
    }
   ],
   "source": [
    "np.pi"
   ]
  },
  {
   "cell_type": "code",
   "execution_count": 309,
   "metadata": {},
   "outputs": [
    {
     "data": {
      "text/plain": [
       "array([-2.39617318, -2.01063891, -1.929567  , -1.46013911, -0.94531129,\n",
       "       -0.49248577, -0.44441921, -0.30288487, -0.0475831 ,  0.75837771,\n",
       "        0.84415399,  0.89267702,  0.91290772,  0.93324753,  0.98279372,\n",
       "        0.99945885,  1.13838855,  1.17600521,  1.18619161,  1.39860551,\n",
       "        1.80002826,  1.97568811,  2.06861866,  2.10450452,  2.66324022,\n",
       "        2.87859792,  3.10934577])"
      ]
     },
     "execution_count": 309,
     "metadata": {},
     "output_type": "execute_result"
    }
   ],
   "source": [
    "angle[np.argsort(angle)]"
   ]
  },
  {
   "cell_type": "code",
   "execution_count": 302,
   "metadata": {},
   "outputs": [
    {
     "data": {
      "text/plain": [
       "array([ 313.,  353.,  292.,  328.,  493., 2165., 2164.,  281., 1768.,\n",
       "       2740.,  145., 2137., 3092., 1129.,  468., 1108., 1845.,  676.,\n",
       "       2053., 2180.,  949.,  232., 2741.,  653.,  925.,  725.,  962.])"
      ]
     },
     "execution_count": 302,
     "metadata": {},
     "output_type": "execute_result"
    }
   ],
   "source": [
    "lenght[np.argsort(angle)]"
   ]
  },
  {
   "cell_type": "code",
   "execution_count": 303,
   "metadata": {},
   "outputs": [
    {
     "data": {
      "text/plain": [
       "array([[  0,   0],\n",
       "       [-50, -50],\n",
       "       [ 50,  50],\n",
       "       [ 50, -50],\n",
       "       [-50,  50]])"
      ]
     },
     "execution_count": 303,
     "metadata": {},
     "output_type": "execute_result"
    }
   ],
   "source": [
    "sc_cxy  = np.array([0, 0])\n",
    "sc_tlxy = sc_cxy + np.array([-(50), -(50)])\n",
    "sc_brxy = sc_cxy + np.array([+(50), +(50)])\n",
    "sc_trxy = sc_cxy + np.array([+(50), -(50)])\n",
    "sc_blxy = sc_cxy + np.array([-(50), +(50)])\n",
    "\n",
    "sc = np.array([sc_cxy ,sc_tlxy ,sc_brxy ,sc_trxy ,sc_blxy])\n",
    "sc"
   ]
  },
  {
   "cell_type": "code",
   "execution_count": 310,
   "metadata": {},
   "outputs": [
    {
     "data": {
      "image/png": "[encoded data removed]",
      "text/plain": [
       "<Figure size 800x800 with 1 Axes>"
      ]
     },
     "metadata": {},
     "output_type": "display_data"
    }
   ],
   "source": [
    "plt.figure(figsize=(8, 8))\n",
    "plt.scatter(*cxy.T  ,   s=1, c='black')\n",
    "plt.scatter(*tlxy.T ,   s=1, c='black')\n",
    "plt.scatter(*brxy.T ,   s=1, c='black')\n",
    "plt.scatter(*trxy.T ,   s=1, c='black')\n",
    "plt.scatter(*blxy.T ,   s=1, c='black')\n",
    "\n",
    "plt.scatter(*q1_xy.T ,   s=3, c='red')\n",
    "plt.scatter(*q2_xy.T ,   s=3, c='green')\n",
    "plt.scatter(*q3_xy.T ,   s=3, c='blue')\n",
    "plt.scatter(*q4_xy.T ,   s=3, c='orange')\n",
    "\n",
    "plt.scatter(*q1_shadow_xy.T ,   s=3, c='red')\n",
    "plt.scatter(*q2_shadow_xy.T ,   s=3, c='green')\n",
    "plt.scatter(*q3_shadow_xy.T ,   s=3, c='blue')\n",
    "plt.scatter(*q4_shadow_xy.T ,   s=3, c='orange')\n",
    "\n",
    "# plt.fill(*np.concatenate([q1_xy, q1_shadow_xy[::-1]]).T )\n",
    "\n",
    "plt.scatter(*pxy.T, c='red')\n",
    "# plt.scatter(*cxy.T + np.array([-10, -10]), c='red')\n",
    "\n",
    "plt.scatter(*sc.T, c='blue')\n",
    "\n",
    "\n",
    "\n",
    "plt.xlim([-(52), 52])\n",
    "plt.ylim([-(52), 52])\n",
    "plt.gca().invert_yaxis()\n",
    "\n",
    "plt.grid()"
   ]
  },
  {
   "cell_type": "code",
   "execution_count": 250,
   "metadata": {},
   "outputs": [
    {
     "data": {
      "text/plain": [
       "40.5"
      ]
     },
     "execution_count": 250,
     "metadata": {},
     "output_type": "execute_result"
    }
   ],
   "source": [
    "(5*16+1)/2"
   ]
  },
  {
   "cell_type": "code",
   "execution_count": 296,
   "metadata": {},
   "outputs": [
    {
     "data": {
      "text/plain": [
       "(array([[39.5, 36.5],\n",
       "        [ 9.5,  9.5],\n",
       "        [30.5, 37.5],\n",
       "        [29.5, 37.5],\n",
       "        [34.5, 45.5],\n",
       "        [20.5, 28.5],\n",
       "        [19.5, 29.5],\n",
       "        [19.5, 39.5],\n",
       "        [18.5, 40.5],\n",
       "        [18.5, 43.5],\n",
       "        [ 9.5, 46.5]]),\n",
       " array([[39.5, 37.5],\n",
       "        [ 9.5, 10.5],\n",
       "        [ 8.5, 10.5],\n",
       "        [21.5, 27.5],\n",
       "        [21.5, 28.5],\n",
       "        [13.5, 19.5],\n",
       "        [12.5, 19.5],\n",
       "        [19.5, 40.5],\n",
       "        [11.5, 25.5],\n",
       "        [10.5, 25.5],\n",
       "        [ 9.5, 47.5]]),\n",
       " array([[38.5, 37.5],\n",
       "        [30.5, 36.5],\n",
       "        [35.5, 44.5],\n",
       "        [35.5, 45.5],\n",
       "        [13.5, 18.5],\n",
       "        [19.5, 28.5],\n",
       "        [18.5, 29.5],\n",
       "        [11.5, 24.5],\n",
       "        [18.5, 42.5],\n",
       "        [17.5, 43.5],\n",
       "        [ 8.5, 47.5]]))"
      ]
     },
     "execution_count": 296,
     "metadata": {},
     "output_type": "execute_result"
    }
   ],
   "source": [
    "q1_xy[0::3], q1_xy[1::3], q1_xy[2::3]"
   ]
  },
  {
   "cell_type": "code",
   "execution_count": null,
   "metadata": {},
   "outputs": [],
   "source": [
    "q1_xy[0::3], q1_xy[1::3], q1_xy[2::3]"
   ]
  },
  {
   "cell_type": "code",
   "execution_count": 290,
   "metadata": {},
   "outputs": [
    {
     "data": {
      "text/plain": [
       "[array([[39.5, 36.5],\n",
       "        [39.5, 37.5],\n",
       "        [38.5, 37.5]]),\n",
       " array([[ 9.5,  9.5],\n",
       "        [ 9.5, 10.5],\n",
       "        [30.5, 36.5]]),\n",
       " array([[30.5, 37.5],\n",
       "        [ 8.5, 10.5],\n",
       "        [35.5, 44.5]]),\n",
       " array([[29.5, 37.5],\n",
       "        [21.5, 27.5],\n",
       "        [35.5, 45.5]]),\n",
       " array([[34.5, 45.5],\n",
       "        [21.5, 28.5],\n",
       "        [13.5, 18.5]]),\n",
       " array([[20.5, 28.5],\n",
       "        [13.5, 19.5],\n",
       "        [19.5, 28.5]]),\n",
       " array([[19.5, 29.5],\n",
       "        [12.5, 19.5],\n",
       "        [18.5, 29.5]]),\n",
       " array([[19.5, 39.5],\n",
       "        [19.5, 40.5],\n",
       "        [11.5, 24.5]]),\n",
       " array([[18.5, 40.5],\n",
       "        [11.5, 25.5],\n",
       "        [18.5, 42.5]]),\n",
       " array([[18.5, 43.5],\n",
       "        [10.5, 25.5],\n",
       "        [17.5, 43.5]]),\n",
       " array([[ 9.5, 46.5],\n",
       "        [ 9.5, 47.5],\n",
       "        [ 8.5, 47.5]])]"
      ]
     },
     "execution_count": 290,
     "metadata": {},
     "output_type": "execute_result"
    }
   ],
   "source": [
    "np.split(q1_xy, len(q1_xy)//3)"
   ]
  },
  {
   "cell_type": "code",
   "execution_count": 291,
   "metadata": {},
   "outputs": [
    {
     "data": {
      "text/plain": [
       "[array([[78., 72.],\n",
       "        [78., 74.],\n",
       "        [76., 74.]]),\n",
       " array([[18., 18.],\n",
       "        [18., 20.],\n",
       "        [60., 72.]]),\n",
       " array([[60., 74.],\n",
       "        [16., 20.],\n",
       "        [70., 88.]]),\n",
       " array([[58., 74.],\n",
       "        [42., 54.],\n",
       "        [70., 90.]]),\n",
       " array([[68., 90.],\n",
       "        [42., 56.],\n",
       "        [26., 36.]]),\n",
       " array([[40., 56.],\n",
       "        [26., 38.],\n",
       "        [38., 56.]]),\n",
       " array([[38., 58.],\n",
       "        [24., 38.],\n",
       "        [36., 58.]]),\n",
       " array([[38., 78.],\n",
       "        [38., 80.],\n",
       "        [22., 48.]]),\n",
       " array([[36., 80.],\n",
       "        [22., 50.],\n",
       "        [36., 84.]]),\n",
       " array([[36., 86.],\n",
       "        [20., 50.],\n",
       "        [34., 86.]]),\n",
       " array([[18., 92.],\n",
       "        [18., 94.],\n",
       "        [16., 94.]])]"
      ]
     },
     "execution_count": 291,
     "metadata": {},
     "output_type": "execute_result"
    }
   ],
   "source": [
    "np.split(q1_shadow_xy, len(q1_shadow_xy)//3)"
   ]
  },
  {
   "cell_type": "code",
   "execution_count": 293,
   "metadata": {},
   "outputs": [
    {
     "data": {
      "text/plain": [
       "array([[[39.5, 36.5],\n",
       "        [39.5, 37.5],\n",
       "        [38.5, 37.5]],\n",
       "\n",
       "       [[ 9.5,  9.5],\n",
       "        [ 9.5, 10.5],\n",
       "        [30.5, 36.5]],\n",
       "\n",
       "       [[30.5, 37.5],\n",
       "        [ 8.5, 10.5],\n",
       "        [35.5, 44.5]],\n",
       "\n",
       "       [[29.5, 37.5],\n",
       "        [21.5, 27.5],\n",
       "        [35.5, 45.5]],\n",
       "\n",
       "       [[34.5, 45.5],\n",
       "        [21.5, 28.5],\n",
       "        [13.5, 18.5]],\n",
       "\n",
       "       [[20.5, 28.5],\n",
       "        [13.5, 19.5],\n",
       "        [19.5, 28.5]],\n",
       "\n",
       "       [[19.5, 29.5],\n",
       "        [12.5, 19.5],\n",
       "        [18.5, 29.5]],\n",
       "\n",
       "       [[19.5, 39.5],\n",
       "        [19.5, 40.5],\n",
       "        [11.5, 24.5]],\n",
       "\n",
       "       [[18.5, 40.5],\n",
       "        [11.5, 25.5],\n",
       "        [18.5, 42.5]],\n",
       "\n",
       "       [[18.5, 43.5],\n",
       "        [10.5, 25.5],\n",
       "        [17.5, 43.5]],\n",
       "\n",
       "       [[ 9.5, 46.5],\n",
       "        [ 9.5, 47.5],\n",
       "        [ 8.5, 47.5]],\n",
       "\n",
       "       [[78. , 72. ],\n",
       "        [78. , 74. ],\n",
       "        [76. , 74. ]],\n",
       "\n",
       "       [[18. , 18. ],\n",
       "        [18. , 20. ],\n",
       "        [60. , 72. ]],\n",
       "\n",
       "       [[60. , 74. ],\n",
       "        [16. , 20. ],\n",
       "        [70. , 88. ]],\n",
       "\n",
       "       [[58. , 74. ],\n",
       "        [42. , 54. ],\n",
       "        [70. , 90. ]],\n",
       "\n",
       "       [[68. , 90. ],\n",
       "        [42. , 56. ],\n",
       "        [26. , 36. ]],\n",
       "\n",
       "       [[40. , 56. ],\n",
       "        [26. , 38. ],\n",
       "        [38. , 56. ]],\n",
       "\n",
       "       [[38. , 58. ],\n",
       "        [24. , 38. ],\n",
       "        [36. , 58. ]],\n",
       "\n",
       "       [[38. , 78. ],\n",
       "        [38. , 80. ],\n",
       "        [22. , 48. ]],\n",
       "\n",
       "       [[36. , 80. ],\n",
       "        [22. , 50. ],\n",
       "        [36. , 84. ]],\n",
       "\n",
       "       [[36. , 86. ],\n",
       "        [20. , 50. ],\n",
       "        [34. , 86. ]],\n",
       "\n",
       "       [[18. , 92. ],\n",
       "        [18. , 94. ],\n",
       "        [16. , 94. ]]])"
      ]
     },
     "execution_count": 293,
     "metadata": {},
     "output_type": "execute_result"
    }
   ],
   "source": [
    "np.append(\n",
    "    np.split(q1_xy, len(q1_xy)//3),\n",
    "    np.split(q1_shadow_xy, len(q1_shadow_xy)//3),\n",
    "    axis=0\n",
    ")"
   ]
  },
  {
   "cell_type": "code",
   "execution_count": 319,
   "metadata": {},
   "outputs": [
    {
     "data": {
      "text/plain": [
       "array([0, 1, 2, 3])"
      ]
     },
     "execution_count": 319,
     "metadata": {},
     "output_type": "execute_result"
    }
   ],
   "source": [
    "np.sort([0,1,2,3])"
   ]
  },
  {
   "cell_type": "code",
   "execution_count": 2,
   "metadata": {},
   "outputs": [
    {
     "data": {
      "text/plain": [
       "0.4636476090008061"
      ]
     },
     "execution_count": 2,
     "metadata": {},
     "output_type": "execute_result"
    }
   ],
   "source": [
    "np.arctan2(1, 2)"
   ]
  },
  {
   "cell_type": "code",
   "execution_count": 5,
   "metadata": {},
   "outputs": [
    {
     "data": {
      "text/plain": [
       "array([[1, 0],\n",
       "       [1, 1],\n",
       "       [2, 2],\n",
       "       [3, 3]])"
      ]
     },
     "execution_count": 5,
     "metadata": {},
     "output_type": "execute_result"
    }
   ],
   "source": [
    "np.c_[np.array([1, 1, 2,3]), np.array([0, 1, 2,3])]"
   ]
  },
  {
   "cell_type": "code",
   "execution_count": null,
   "metadata": {},
   "outputs": [],
   "source": []
  }
 ],
 "metadata": {
  "kernelspec": {
   "display_name": "Python 3",
   "language": "python",
   "name": "python3"
  },
  "language_info": {
   "codemirror_mode": {
    "name": "ipython",
    "version": 3
   },
   "file_extension": ".py",
   "mimetype": "text/x-python",
   "name": "python",
   "nbconvert_exporter": "python",
   "pygments_lexer": "ipython3",
   "version": "3.10.8"
  }
 },
 "nbformat": 4,
 "nbformat_minor": 2
}
