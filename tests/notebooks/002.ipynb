{
 "cells": [
  {
   "cell_type": "code",
   "execution_count": 1,
   "metadata": {},
   "outputs": [],
   "source": [
    "import numpy as np\n",
    "import matplotlib.pyplot as plt"
   ]
  },
  {
   "cell_type": "code",
   "execution_count": 2,
   "metadata": {},
   "outputs": [],
   "source": [
    "MAP_SIZE = (32, 48)"
   ]
  },
  {
   "cell_type": "code",
   "execution_count": 3,
   "metadata": {},
   "outputs": [
    {
     "data": {
      "text/plain": [
       "<matplotlib.image.AxesImage at 0x1e9d02a15d0>"
      ]
     },
     "execution_count": 3,
     "metadata": {},
     "output_type": "execute_result"
    },
    {
     "data": {
      "image/png": "[encoded data removed]",
      "text/plain": [
       "<Figure size 640x480 with 1 Axes>"
      ]
     },
     "metadata": {},
     "output_type": "display_data"
    }
   ],
   "source": [
    "block_floor_id = np.random.choice([0, 1], (MAP_SIZE), p=[0.95, 0.05])\n",
    "plt.imshow(block_floor_id)"
   ]
  },
  {
   "cell_type": "code",
   "execution_count": 4,
   "metadata": {},
   "outputs": [],
   "source": [
    "class Square:\n",
    "    def __init__(self, x=0, y=0, w=1, h=1,) -> None:\n",
    "        self.x = x\n",
    "        self.y = y\n",
    "\n",
    "        self.w = w\n",
    "        self.h = h\n",
    "\n",
    "    def get_x(self, x):\n",
    "        return self.x\n",
    "    def get_y(self, y):\n",
    "        return self.y\n",
    "\n",
    "    def set_x(self, x):\n",
    "        self.x = x\n",
    "    def set_y(self, y):\n",
    "        self.y = y\n",
    "\n",
    "    def get_center(self):\n",
    "        return self.x, self.y\n",
    "    def get_topleft(self):\n",
    "        return self.x-self.w/2, self.y-self.h/2\n",
    "    def get_topright(self):\n",
    "        return self.x+self.w/2, self.y-self.h/2\n",
    "    def get_bottomleft(self):\n",
    "        return self.x-self.w/2, self.y+self.h/2\n",
    "    def get_bottomright(self):\n",
    "        return self.x+self.w/2, self.y+self.h/2\n",
    "    \n",
    "    def set_center(self, x, y):\n",
    "        self.x, self.y = x, y\n",
    "    def set_topleft(self, x, y):\n",
    "        self.x = x+self.w/2\n",
    "        self.y = y+self.h/2\n",
    "    def set_topright(self, x, y):\n",
    "        self.x = x-self.w/2 \n",
    "        self.y = y+self.h/2\n",
    "    def set_bottomleft(self, x, y):\n",
    "        self.x = x+self.w/2\n",
    "        self.y = y-self.h/2\n",
    "    def set_bottomright(self, x, y):\n",
    "        self.x = x-self.w/2\n",
    "        self.y = y-self.h/2\n",
    "\n",
    "    \n",
    "    def get_top(self): \n",
    "        return self.y-self.h/2\n",
    "    def get_right(self):\n",
    "        return self.x+self.w/2\n",
    "    def get_bottom(self):\n",
    "        return  self.y+self.h/2\n",
    "    def get_left(self):\n",
    "        return self.x-self.w/2\n",
    "   \n",
    "\n",
    "    def set_top(self, y): \n",
    "        self.y = y+self.h/2\n",
    "    def set_right(self, x):\n",
    "        self.x = x-self.w/2\n",
    "    def set_bottom(self, y):\n",
    "        self.y = y-self.h/2\n",
    "    def set_left(self, x):\n",
    "        self.x = x+self.w/2\n",
    "    \n",
    "\n",
    "    def get_all_x(self):\n",
    "        return [self.get_center()[0], self.get_topleft()[0], self.get_topright()[0], self.get_bottomleft()[0], self.get_bottomright()[0]]\n",
    "    def get_all_y(self):\n",
    "        return [self.get_center()[1], self.get_topleft()[1], self.get_topright()[1], self.get_bottomleft()[1], self.get_bottomright()[1]]\n",
    "    \n",
    "    def collidesquare(self, square):\n",
    "        dx = np.abs(self.get_center()[0] - square.get_center()[0])\n",
    "        dy = np.abs(self.get_center()[1] - square.get_center()[1])\n",
    "\n",
    "        # print(f'{dx} < {self.w/2} or {dx} < {square.w/2}) or ({dy} < {self.h/2} or {dy} < {square.h/2}')\n",
    "        # print(dx, dy, self.w/2, np.abs(dx) < self.w/2, np.abs(dx) < square.w/2, np.abs(dy) < self.h/2, np.abs(dy) < square.h/2)\n",
    "        if (dx < (self.w/2 + square.w/2)) or (dy < (self.h/2 + square.h/2)):\n",
    "            return True\n",
    "        else:\n",
    "            return False\n",
    "\n",
    "    def collision(self, square):\n",
    "        dx = self.get_center()[0] - square.get_center()[0]\n",
    "        dy = self.get_center()[1] - square.get_center()[1]\n",
    "\n",
    "        if self.collidesquare(square):\n",
    "            if np.abs(dx) > np.abs(dy):\n",
    "                if dx < 0:\n",
    "                    self.set_right(square.get_left())\n",
    "                else:\n",
    "                    self.set_left(square.get_right())\n",
    "            if np.abs(dx) < np.abs(dy):\n",
    "                if dy < 0:\n",
    "                    self.set_top(square.get_bottom())\n",
    "                else:\n",
    "                    self.set_bottom(square.get_top())\n",
    "            if np.abs(dx) == np.abs(dy):\n",
    "                if dx < 0 and dy < 0:\n",
    "                    self.set_right(square.get_left())\n",
    "                if dx < 0 and dy > 0:\n",
    "                    self.set_left(square.get_right())\n",
    "                if dx > 0 and dy < 0:\n",
    "                    self.set_top(square.get_bottom())\n",
    "                else:\n",
    "                    self.set_bottom(square.get_top())\n",
    "\n",
    "class Block(Square):\n",
    "    def __init__(self, x=0, y=0, w=1, h=1) -> None:\n",
    "        super().__init__(x, y, w, h)             \n",
    "\n",
    "\n"
   ]
  },
  {
   "cell_type": "code",
   "execution_count": 9,
   "metadata": {},
   "outputs": [],
   "source": [
    "s1 = Square(x=0, y=0, w=1, h=1)\n",
    "s2 = Square(x=0.0, y=0.75, w=1, h=1)\n",
    "\n",
    "# s1.collidesquare(s2)"
   ]
  },
  {
   "cell_type": "code",
   "execution_count": 10,
   "metadata": {},
   "outputs": [
    {
     "name": "stdout",
     "output_type": "stream",
     "text": [
      "0.0 < 0.5 or 0.0 < 0.5) or (0.75 < 0.5 or 0.75 < 0.5\n"
     ]
    },
    {
     "data": {
      "image/png": "[encoded data removed]",
      "text/plain": [
       "<Figure size 640x480 with 1 Axes>"
      ]
     },
     "metadata": {},
     "output_type": "display_data"
    }
   ],
   "source": [
    "# plt.scatter(\n",
    "#     x=s1.get_all_x(),\n",
    "#     y=s1.get_all_y()   \n",
    "# )\n",
    "# plt.scatter(\n",
    "#     x=s2.get_all_x(),\n",
    "#     y=s2.get_all_y()   \n",
    "# )\n",
    "# plt.grid()\n",
    "\n",
    "s1.collision(s2)\n",
    "\n",
    "plt.scatter(\n",
    "    x=s1.get_all_x(),\n",
    "    y=s1.get_all_y()   \n",
    ")\n",
    "plt.scatter(\n",
    "    x=s2.get_all_x(),\n",
    "    y=s2.get_all_y()   \n",
    ")\n",
    "plt.grid()"
   ]
  },
  {
   "cell_type": "code",
   "execution_count": null,
   "metadata": {},
   "outputs": [],
   "source": []
  },
  {
   "cell_type": "code",
   "execution_count": null,
   "metadata": {},
   "outputs": [],
   "source": []
  }
 ],
 "metadata": {
  "kernelspec": {
   "display_name": "Python 3",
   "language": "python",
   "name": "python3"
  },
  "language_info": {
   "codemirror_mode": {
    "name": "ipython",
    "version": 3
   },
   "file_extension": ".py",
   "mimetype": "text/x-python",
   "name": "python",
   "nbconvert_exporter": "python",
   "pygments_lexer": "ipython3",
   "version": "3.10.8"
  }
 },
 "nbformat": 4,
 "nbformat_minor": 2
}
