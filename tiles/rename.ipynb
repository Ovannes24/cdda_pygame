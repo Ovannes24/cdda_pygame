{
 "cells": [
  {
   "cell_type": "code",
   "execution_count": 1,
   "metadata": {},
   "outputs": [],
   "source": [
    "import os"
   ]
  },
  {
   "cell_type": "code",
   "execution_count": 2,
   "metadata": {},
   "outputs": [
    {
     "data": {
      "text/plain": [
       "'c:\\\\Code\\\\040_cdda_tests\\\\textures\\\\structured_tiles\\\\structured_1'"
      ]
     },
     "execution_count": 2,
     "metadata": {},
     "output_type": "execute_result"
    }
   ],
   "source": [
    "os.getcwd()"
   ]
  },
  {
   "cell_type": "code",
   "execution_count": 19,
   "metadata": {},
   "outputs": [
    {
     "name": "stdout",
     "output_type": "stream",
     "text": [
      ".\n",
      ".\\blocks\n",
      ".\\blocks\\bottom\n",
      ".\\blocks\\center\n",
      ".\\book\n",
      ".\\drink\n",
      ".\\food\n",
      ".\\human\n",
      ".\\human\\arms\n",
      ".\\human\\beard\n",
      ".\\human\\eyes\n",
      ".\\human\\hair\n",
      ".\\human\\hair_female\n",
      ".\\human\\hair_male\n",
      ".\\human\\legs\n",
      ".\\human\\on_head\n",
      ".\\human\\skin\n",
      ".\\human\\skin_female\n",
      ".\\human\\skin_male\n",
      ".\\human\\wings\n",
      ".\\mob\n",
      ".\\mob\\aggressive\n",
      ".\\mob\\peaceful\n",
      ".\\weapon\n",
      ".\\weapon\\arrow\n",
      ".\\weapon\\bow\n",
      ".\\weapon\\bullet\n",
      ".\\weapon\\close_combat_weapon\n",
      ".\\weapon\\gun\n"
     ]
    }
   ],
   "source": [
    "for d in os.walk('.'):\n",
    "    print(d[0])"
   ]
  },
  {
   "cell_type": "code",
   "execution_count": 21,
   "metadata": {},
   "outputs": [],
   "source": [
    "for d in os.walk('.'):\n",
    "    dir_name = d[0]\n",
    "    for i, im_name in enumerate(d[2]):\n",
    "        if im_name[-3:] == 'png':\n",
    "            os.rename(dir_name+'/'+im_name, dir_name+'/'+f'{i:08d}.png')"
   ]
  },
  {
   "cell_type": "code",
   "execution_count": null,
   "metadata": {},
   "outputs": [],
   "source": []
  },
  {
   "cell_type": "code",
   "execution_count": null,
   "metadata": {},
   "outputs": [],
   "source": []
  },
  {
   "cell_type": "code",
   "execution_count": 15,
   "metadata": {},
   "outputs": [
    {
     "name": "stdout",
     "output_type": "stream",
     "text": [
      "['00000000.png', '00000016.png', '00000032.png', '00000048.png', '00000144.png', '00000480.png', '00000496.png']\n"
     ]
    }
   ],
   "source": [
    "for d in os.walk(r'.\\blocks\\bottom'):\n",
    "    print(d[2])"
   ]
  },
  {
   "cell_type": "code",
   "execution_count": 18,
   "metadata": {},
   "outputs": [
    {
     "name": "stdout",
     "output_type": "stream",
     "text": [
      "00000000.png 00000010\n",
      "00000016.png 00000010\n",
      "00000032.png 00000010\n",
      "00000048.png 00000010\n",
      "00000144.png 00000010\n",
      "00000480.png 00000010\n",
      "00000496.png 00000010\n"
     ]
    }
   ],
   "source": [
    "for im in os.listdir(r'.\\blocks\\bottom'):\n",
    "    print(im, f'{10:08d}')"
   ]
  },
  {
   "cell_type": "code",
   "execution_count": null,
   "metadata": {},
   "outputs": [],
   "source": []
  }
 ],
 "metadata": {
  "kernelspec": {
   "display_name": "Python 3",
   "language": "python",
   "name": "python3"
  },
  "language_info": {
   "codemirror_mode": {
    "name": "ipython",
    "version": 3
   },
   "file_extension": ".py",
   "mimetype": "text/x-python",
   "name": "python",
   "nbconvert_exporter": "python",
   "pygments_lexer": "ipython3",
   "version": "3.10.8"
  }
 },
 "nbformat": 4,
 "nbformat_minor": 2
}
